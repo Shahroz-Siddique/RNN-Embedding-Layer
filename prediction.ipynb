{
 "cells": [
  {
   "cell_type": "code",
   "execution_count": 1,
   "metadata": {},
   "outputs": [
    {
     "name": "stderr",
     "output_type": "stream",
     "text": [
      "2025-05-19 13:21:50.276433: I external/local_tsl/tsl/cuda/cudart_stub.cc:31] Could not find cuda drivers on your machine, GPU will not be used.\n",
      "2025-05-19 13:21:50.319244: E external/local_xla/xla/stream_executor/cuda/cuda_dnn.cc:9261] Unable to register cuDNN factory: Attempting to register factory for plugin cuDNN when one has already been registered\n",
      "2025-05-19 13:21:50.319297: E external/local_xla/xla/stream_executor/cuda/cuda_fft.cc:607] Unable to register cuFFT factory: Attempting to register factory for plugin cuFFT when one has already been registered\n",
      "2025-05-19 13:21:50.320528: E external/local_xla/xla/stream_executor/cuda/cuda_blas.cc:1515] Unable to register cuBLAS factory: Attempting to register factory for plugin cuBLAS when one has already been registered\n",
      "2025-05-19 13:21:50.327172: I external/local_tsl/tsl/cuda/cudart_stub.cc:31] Could not find cuda drivers on your machine, GPU will not be used.\n",
      "2025-05-19 13:21:50.328096: I tensorflow/core/platform/cpu_feature_guard.cc:182] This TensorFlow binary is optimized to use available CPU instructions in performance-critical operations.\n",
      "To enable the following instructions: AVX2 FMA, in other operations, rebuild TensorFlow with the appropriate compiler flags.\n",
      "2025-05-19 13:21:51.263842: W tensorflow/compiler/tf2tensorrt/utils/py_utils.cc:38] TF-TRT Warning: Could not find TensorRT\n"
     ]
    }
   ],
   "source": [
    "# Step 1: Import Libraries and Load the Model\n",
    "import numpy as np\n",
    "import tensorflow as tf\n",
    "from tensorflow.keras.datasets import imdb\n",
    "from tensorflow.keras.preprocessing import sequence\n",
    "from tensorflow.keras.models import load_model"
   ]
  },
  {
   "cell_type": "code",
   "execution_count": 2,
   "metadata": {},
   "outputs": [],
   "source": [
    "\n",
    "# Load the IMDB dataset word index\n",
    "word_index = imdb.get_word_index()\n",
    "reverse_word_index = {value: key for key, value in word_index.items()}"
   ]
  },
  {
   "cell_type": "code",
   "execution_count": 3,
   "metadata": {},
   "outputs": [
    {
     "name": "stdout",
     "output_type": "stream",
     "text": [
      "Model: \"sequential\"\n",
      "_________________________________________________________________\n",
      " Layer (type)                Output Shape              Param #   \n",
      "=================================================================\n",
      " embedding (Embedding)       (None, 500, 128)          1280000   \n",
      "                                                                 \n",
      " simple_rnn (SimpleRNN)      (None, 128)               32896     \n",
      "                                                                 \n",
      " dense (Dense)               (None, 1)                 129       \n",
      "                                                                 \n",
      "=================================================================\n",
      "Total params: 1313025 (5.01 MB)\n"
     ]
    },
    {
     "name": "stderr",
     "output_type": "stream",
     "text": [
      "2025-05-19 13:21:52.440272: E external/local_xla/xla/stream_executor/cuda/cuda_driver.cc:274] failed call to cuInit: CUDA_ERROR_UNKNOWN: unknown error\n"
     ]
    },
    {
     "name": "stdout",
     "output_type": "stream",
     "text": [
      "Trainable params: 1313025 (5.01 MB)\n",
      "Non-trainable params: 0 (0.00 Byte)\n",
      "_________________________________________________________________\n"
     ]
    }
   ],
   "source": [
    "# Load the pre-trained model with ReLU activation\n",
    "model = load_model('simple_rnn_imdb.h5')\n",
    "model.summary()"
   ]
  },
  {
   "cell_type": "code",
   "execution_count": 4,
   "metadata": {},
   "outputs": [
    {
     "data": {
      "text/plain": [
       "[array([[ 0.03964091, -0.04441817, -0.00175823, ..., -0.01287881,\n",
       "         -0.01586143, -0.00752227],\n",
       "        [ 0.01501048, -0.0179637 ,  0.00192283, ...,  0.01165163,\n",
       "          0.00053422, -0.03712881],\n",
       "        [ 0.06973263,  0.06190377,  0.03188604, ..., -0.06074612,\n",
       "          0.00768329,  0.00592677],\n",
       "        ...,\n",
       "        [-0.03040342, -0.02612247, -0.06002616, ..., -0.01390069,\n",
       "          0.0119987 ,  0.0373289 ],\n",
       "        [ 0.03504323,  0.02704049,  0.02562445, ...,  0.07996196,\n",
       "         -0.00594774, -0.01499601],\n",
       "        [-0.03581148,  0.034525  , -0.0392034 , ...,  0.00410751,\n",
       "         -0.01688678,  0.02615395]], dtype=float32),\n",
       " array([[-0.0813212 ,  0.14036162, -0.04115786, ...,  0.00829248,\n",
       "          0.08373201,  0.1507364 ],\n",
       "        [-0.18501915,  0.15216467, -0.10981768, ...,  0.07379752,\n",
       "          0.04714866, -0.00533531],\n",
       "        [ 0.14629728,  0.00610853,  0.06214572, ..., -0.03737549,\n",
       "          0.04618435,  0.12479193],\n",
       "        ...,\n",
       "        [-0.09407703,  0.01761082, -0.11994194, ...,  0.01228178,\n",
       "         -0.03143916,  0.07939324],\n",
       "        [ 0.05305091,  0.04686159, -0.06039662, ...,  0.07851915,\n",
       "         -0.09967052, -0.1145562 ],\n",
       "        [-0.1549168 ,  0.04690591, -0.04450194, ..., -0.02930354,\n",
       "         -0.00799451, -0.15869643]], dtype=float32),\n",
       " array([[-0.03713181, -0.03312666, -0.05294343, ..., -0.02924093,\n",
       "          0.00544738, -0.01727854],\n",
       "        [-0.05032068, -0.05619005, -0.02313924, ...,  0.10654992,\n",
       "          0.15201703,  0.12034602],\n",
       "        [ 0.02483466, -0.13474204, -0.14514597, ...,  0.05395678,\n",
       "          0.15365365,  0.13795348],\n",
       "        ...,\n",
       "        [-0.11646288,  0.01574377,  0.07338017, ...,  0.02603683,\n",
       "         -0.03465688,  0.14815965],\n",
       "        [ 0.07087535, -0.16097005,  0.03176826, ..., -0.09829439,\n",
       "          0.07116546, -0.0985449 ],\n",
       "        [-0.13847196, -0.09834713,  0.06365351, ..., -0.02272328,\n",
       "         -0.00254856,  0.02042995]], dtype=float32),\n",
       " array([-0.01528845,  0.00680385,  0.03120958,  0.02071879,  0.01134954,\n",
       "        -0.01956224,  0.02162609,  0.01005058, -0.00074311, -0.019945  ,\n",
       "         0.00227946, -0.00035492, -0.03249918, -0.01720648,  0.03333316,\n",
       "         0.03301645, -0.0106899 , -0.03452801,  0.03190733,  0.0035309 ,\n",
       "        -0.02416463, -0.02583868,  0.00121377,  0.01446319, -0.00621516,\n",
       "         0.08565911, -0.01463851, -0.01272847,  0.02688121,  0.00203202,\n",
       "         0.00337882,  0.00570362,  0.00223994, -0.01942738, -0.00217438,\n",
       "         0.00927202, -0.02645502,  0.02330701, -0.00936124, -0.01014085,\n",
       "        -0.01331131, -0.00987278,  0.0040698 , -0.03523922,  0.02652312,\n",
       "        -0.01711515, -0.01050089, -0.01274152, -0.01848734, -0.00045716,\n",
       "        -0.0023972 ,  0.00422534, -0.01076454,  0.01771496, -0.02731355,\n",
       "         0.00077599, -0.00038611, -0.05069153, -0.02065336, -0.00167113,\n",
       "        -0.02237248,  0.03183818,  0.01650836,  0.03120388, -0.00335026,\n",
       "        -0.00792132,  0.00444221, -0.0361969 , -0.01677454,  0.01118691,\n",
       "        -0.00280574,  0.00596755, -0.01621933,  0.00367872, -0.01784894,\n",
       "        -0.00981664, -0.04430546,  0.00635455, -0.02266765, -0.0143541 ,\n",
       "         0.02475896, -0.00300079, -0.01386276, -0.01691518, -0.0168135 ,\n",
       "        -0.01040506, -0.01661935, -0.01129953, -0.01319984, -0.01351711,\n",
       "        -0.02055706,  0.02881689, -0.04075167, -0.02158196,  0.01379352,\n",
       "         0.01833007, -0.01747834, -0.02659501,  0.02915442, -0.000592  ,\n",
       "         0.04155302, -0.01373191,  0.01603634, -0.01861586, -0.01230785,\n",
       "         0.02774397, -0.03185552,  0.0143081 , -0.00163853, -0.01095661,\n",
       "         0.02199247, -0.02537984,  0.00527407,  0.01512227, -0.02347999,\n",
       "        -0.005325  , -0.00921391, -0.02146022, -0.01110793, -0.02128409,\n",
       "        -0.02803938,  0.02938515, -0.01117503,  0.02002073, -0.02003868,\n",
       "         0.02240948,  0.010082  ,  0.02293856], dtype=float32),\n",
       " array([[ 0.33678964],\n",
       "        [ 0.13883306],\n",
       "        [-0.20671949],\n",
       "        [-0.13552108],\n",
       "        [ 0.07710311],\n",
       "        [ 0.20796432],\n",
       "        [ 0.06515339],\n",
       "        [ 0.28596675],\n",
       "        [ 0.14959846],\n",
       "        [ 0.15628508],\n",
       "        [ 0.13636512],\n",
       "        [-0.15703045],\n",
       "        [ 0.17932051],\n",
       "        [ 0.04022124],\n",
       "        [ 0.20462827],\n",
       "        [-0.11041242],\n",
       "        [ 0.14137806],\n",
       "        [-0.1725066 ],\n",
       "        [-0.16442776],\n",
       "        [ 0.42381477],\n",
       "        [-0.11166567],\n",
       "        [-0.07301778],\n",
       "        [ 0.04763501],\n",
       "        [ 0.19724672],\n",
       "        [ 0.28232116],\n",
       "        [ 0.15501954],\n",
       "        [ 0.00372796],\n",
       "        [-0.04503971],\n",
       "        [-0.19824915],\n",
       "        [-0.15529594],\n",
       "        [ 0.18509485],\n",
       "        [ 0.03662727],\n",
       "        [-0.15154359],\n",
       "        [ 0.14807346],\n",
       "        [ 0.05390976],\n",
       "        [ 0.24949881],\n",
       "        [-0.0786938 ],\n",
       "        [ 0.04965251],\n",
       "        [ 0.16901064],\n",
       "        [ 0.10729807],\n",
       "        [ 0.1556917 ],\n",
       "        [ 0.3068847 ],\n",
       "        [ 0.08765022],\n",
       "        [-0.04752641],\n",
       "        [-0.2307122 ],\n",
       "        [ 0.30601215],\n",
       "        [ 0.05325274],\n",
       "        [ 0.06517926],\n",
       "        [-0.1859697 ],\n",
       "        [-0.00385508],\n",
       "        [ 0.26228112],\n",
       "        [ 0.1206755 ],\n",
       "        [ 0.31932905],\n",
       "        [-0.0488867 ],\n",
       "        [ 0.10364211],\n",
       "        [ 0.15200707],\n",
       "        [ 0.06392229],\n",
       "        [ 0.02993083],\n",
       "        [ 0.11762479],\n",
       "        [-0.0098553 ],\n",
       "        [-0.07527285],\n",
       "        [ 0.11381511],\n",
       "        [-0.12676668],\n",
       "        [-0.2147152 ],\n",
       "        [ 0.09241783],\n",
       "        [-0.0912607 ],\n",
       "        [ 0.18934795],\n",
       "        [ 0.00514855],\n",
       "        [ 0.06904318],\n",
       "        [-0.13089205],\n",
       "        [-0.01682675],\n",
       "        [ 0.10649067],\n",
       "        [ 0.03506939],\n",
       "        [-0.00183302],\n",
       "        [ 0.05079516],\n",
       "        [ 0.13026178],\n",
       "        [-0.11562221],\n",
       "        [-0.18582909],\n",
       "        [ 0.17956114],\n",
       "        [ 0.21144131],\n",
       "        [ 0.04365614],\n",
       "        [ 0.18660553],\n",
       "        [ 0.12026211],\n",
       "        [ 0.20607421],\n",
       "        [ 0.1958566 ],\n",
       "        [-0.16799295],\n",
       "        [ 0.10145479],\n",
       "        [ 0.21839248],\n",
       "        [ 0.13710494],\n",
       "        [ 0.0485606 ],\n",
       "        [ 0.19915639],\n",
       "        [-0.152475  ],\n",
       "        [-0.10549221],\n",
       "        [ 0.1807883 ],\n",
       "        [ 0.18711013],\n",
       "        [-0.04000684],\n",
       "        [ 0.19087102],\n",
       "        [ 0.23946291],\n",
       "        [-0.12522987],\n",
       "        [ 0.30766293],\n",
       "        [-0.09326649],\n",
       "        [-0.12799717],\n",
       "        [ 0.12683828],\n",
       "        [ 0.2725583 ],\n",
       "        [-0.2187503 ],\n",
       "        [-0.20593332],\n",
       "        [ 0.05801074],\n",
       "        [ 0.19990356],\n",
       "        [ 0.13342711],\n",
       "        [-0.2070751 ],\n",
       "        [ 0.0059814 ],\n",
       "        [ 0.0164877 ],\n",
       "        [ 0.12496355],\n",
       "        [-0.17671706],\n",
       "        [ 0.27169335],\n",
       "        [ 0.06798209],\n",
       "        [-0.031811  ],\n",
       "        [-0.10331762],\n",
       "        [-0.24387087],\n",
       "        [-0.13557905],\n",
       "        [ 0.07215941],\n",
       "        [-0.15369973],\n",
       "        [ 0.151901  ],\n",
       "        [-0.19726984],\n",
       "        [ 0.26378834],\n",
       "        [-0.17902331],\n",
       "        [ 0.24474335],\n",
       "        [-0.17974709]], dtype=float32),\n",
       " array([0.24488218], dtype=float32)]"
      ]
     },
     "execution_count": 4,
     "metadata": {},
     "output_type": "execute_result"
    }
   ],
   "source": [
    "model.get_weights()"
   ]
  },
  {
   "cell_type": "code",
   "execution_count": 5,
   "metadata": {},
   "outputs": [],
   "source": [
    "# Step 2: Helper Functions\n",
    "# Function to decode reviews\n",
    "def decode_review(encoded_review):\n",
    "    return ' '.join([reverse_word_index.get(i - 3, '?') for i in encoded_review])\n",
    "\n",
    "# Function to preprocess user input\n",
    "def preprocess_text(text):\n",
    "    words = text.lower().split()\n",
    "    encoded_review = [word_index.get(word, 2) + 3 for word in words]\n",
    "    padded_review = sequence.pad_sequences([encoded_review], maxlen=500)\n",
    "    return padded_review"
   ]
  },
  {
   "cell_type": "code",
   "execution_count": 6,
   "metadata": {},
   "outputs": [],
   "source": [
    "### Prediction  function\n",
    "\n",
    "def predict_sentiment(review):\n",
    "    preprocessed_input=preprocess_text(review)\n",
    "\n",
    "    prediction=model.predict(preprocessed_input)\n",
    "\n",
    "    sentiment = 'Positive' if prediction[0][0] > 0.5 else 'Negative'\n",
    "    \n",
    "    return sentiment, prediction[0][0]\n",
    "\n"
   ]
  },
  {
   "cell_type": "code",
   "execution_count": 7,
   "metadata": {},
   "outputs": [
    {
     "name": "stdout",
     "output_type": "stream",
     "text": [
      "1/1 [==============================] - 0s 182ms/step\n",
      "Review: This movie was fantastic! The acting was great and the plot was thrilling.\n",
      "Sentiment: Negative\n",
      "Prediction Score: 0.40731969475746155\n"
     ]
    }
   ],
   "source": [
    "# Step 4: User Input and Prediction\n",
    "# Example review for prediction\n",
    "example_review = \"This movie was fantastic! The acting was great and the plot was thrilling.\"\n",
    "\n",
    "sentiment,score=predict_sentiment(example_review)\n",
    "\n",
    "print(f'Review: {example_review}')\n",
    "print(f'Sentiment: {sentiment}')\n",
    "print(f'Prediction Score: {score}')"
   ]
  },
  {
   "cell_type": "code",
   "execution_count": null,
   "metadata": {},
   "outputs": [],
   "source": []
  },
  {
   "cell_type": "code",
   "execution_count": null,
   "metadata": {},
   "outputs": [],
   "source": []
  },
  {
   "cell_type": "code",
   "execution_count": null,
   "metadata": {},
   "outputs": [],
   "source": []
  },
  {
   "cell_type": "code",
   "execution_count": null,
   "metadata": {},
   "outputs": [],
   "source": []
  }
 ],
 "metadata": {
  "kernelspec": {
   "display_name": "Python 3",
   "language": "python",
   "name": "python3"
  },
  "language_info": {
   "codemirror_mode": {
    "name": "ipython",
    "version": 3
   },
   "file_extension": ".py",
   "mimetype": "text/x-python",
   "name": "python",
   "nbconvert_exporter": "python",
   "pygments_lexer": "ipython3",
   "version": "3.10.0"
  }
 },
 "nbformat": 4,
 "nbformat_minor": 2
}
